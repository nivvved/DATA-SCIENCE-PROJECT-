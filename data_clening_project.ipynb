{
  "nbformat": 4,
  "nbformat_minor": 0,
  "metadata": {
    "colab": {
      "provenance": [],
      "mount_file_id": "1s_bfPwfiilpt4xsjwmW-uSu2eazRJ-e2",
      "authorship_tag": "ABX9TyNfMHLC89VJEoVazAPC2mrD",
      "include_colab_link": true
    },
    "kernelspec": {
      "name": "python3",
      "display_name": "Python 3"
    },
    "language_info": {
      "name": "python"
    }
  },
  "cells": [
    {
      "cell_type": "markdown",
      "metadata": {
        "id": "view-in-github",
        "colab_type": "text"
      },
      "source": [
        "<a href=\"https://colab.research.google.com/github/nivvved/DATA-SCIENCE-PROJECT-/blob/main/data_clening_project.ipynb\" target=\"_parent\"><img src=\"https://colab.research.google.com/assets/colab-badge.svg\" alt=\"Open In Colab\"/></a>"
      ]
    },
    {
      "cell_type": "code",
      "execution_count": null,
      "metadata": {
        "id": "Z7fWz_ubMH5n"
      },
      "outputs": [],
      "source": [
        "import pandas as pd"
      ]
    },
    {
      "cell_type": "code",
      "source": [
        "from google.colab import drive\n",
        "drive.mount('/content/drive')"
      ],
      "metadata": {
        "colab": {
          "base_uri": "https://localhost:8080/"
        },
        "id": "KoGsI3kOMXhp",
        "outputId": "5a727360-1a06-48aa-dcbc-f66c6de97a3b"
      },
      "execution_count": null,
      "outputs": [
        {
          "output_type": "stream",
          "name": "stdout",
          "text": [
            "Drive already mounted at /content/drive; to attempt to forcibly remount, call drive.mount(\"/content/drive\", force_remount=True).\n"
          ]
        }
      ]
    },
    {
      "cell_type": "code",
      "source": [
        "csv_path = '/content/drive/MyDrive/Electric_Vehicle_Population_Data.csv'"
      ],
      "metadata": {
        "id": "VSrUhiAANTh7"
      },
      "execution_count": null,
      "outputs": []
    },
    {
      "cell_type": "code",
      "source": [
        "df = pd.read_csv(csv_path)"
      ],
      "metadata": {
        "id": "GJNwAw3qMkYP"
      },
      "execution_count": null,
      "outputs": []
    },
    {
      "cell_type": "markdown",
      "source": [
        "dropping duplicate rows"
      ],
      "metadata": {
        "id": "gO9M8nF6Nzgz"
      }
    },
    {
      "cell_type": "code",
      "source": [
        "df = df.drop_duplicates()"
      ],
      "metadata": {
        "id": "wQbIq41BM_b0"
      },
      "execution_count": null,
      "outputs": []
    },
    {
      "cell_type": "markdown",
      "source": [
        "dropping rows with missing values"
      ],
      "metadata": {
        "id": "ScCd0cIZOU_h"
      }
    },
    {
      "cell_type": "code",
      "source": [
        "df = df.dropna()"
      ],
      "metadata": {
        "id": "7Gm3yWwpOQDy"
      },
      "execution_count": null,
      "outputs": []
    },
    {
      "cell_type": "markdown",
      "source": [
        "convert data types"
      ],
      "metadata": {
        "id": "uGzCjHy6N4bj"
      }
    },
    {
      "cell_type": "code",
      "source": [
        "df['Base MSRP'] = df['Base MSRP'].astype(float)"
      ],
      "metadata": {
        "id": "4rQFxwqpONDf"
      },
      "execution_count": null,
      "outputs": []
    },
    {
      "cell_type": "markdown",
      "source": [
        "renaming columns"
      ],
      "metadata": {
        "id": "xkp2T_r9TXEy"
      }
    },
    {
      "cell_type": "code",
      "source": [
        "df = df.rename(columns={'vehicle_make': 'make', 'vehicle_model': 'model'})"
      ],
      "metadata": {
        "id": "xPMwgyfeTbKn"
      },
      "execution_count": null,
      "outputs": []
    },
    {
      "cell_type": "markdown",
      "source": [
        "filter rows based on conditions"
      ],
      "metadata": {
        "id": "LUlkMdY8T2Lw"
      }
    },
    {
      "cell_type": "code",
      "source": [
        "df = df[(df['Electric Range'] > 50) & (df['Electric Vehicle Type'] == 'Battery Electric Vehicle (BEV)')]"
      ],
      "metadata": {
        "id": "z33b_3lET7Ba"
      },
      "execution_count": null,
      "outputs": []
    },
    {
      "cell_type": "markdown",
      "source": [
        "saving the cleaned data"
      ],
      "metadata": {
        "id": "VJrlsDXHU-xS"
      }
    },
    {
      "cell_type": "code",
      "source": [
        "cleaned_csv_path = '/content/drive/MyDrive/cleaned_data.csv'\n",
        "df.to_csv(cleaned_csv_path, index=False)"
      ],
      "metadata": {
        "id": "gQwhFOBbU_CK"
      },
      "execution_count": null,
      "outputs": []
    },
    {
      "cell_type": "code",
      "source": [
        "print(df.head())"
      ],
      "metadata": {
        "colab": {
          "base_uri": "https://localhost:8080/"
        },
        "id": "-I2_CBJD06I6",
        "outputId": "28d4e6c7-b22c-4381-921c-81a85a2bcc8a"
      },
      "execution_count": null,
      "outputs": [
        {
          "output_type": "stream",
          "name": "stdout",
          "text": [
            "   VIN (1-10)    County       City State  Postal Code  Model Year    Make  \\\n",
            "0  5YJXCAE26J    Yakima     Yakima    WA      98908.0        2018   TESLA   \n",
            "2  5YJ3E1EB0K      King    Seattle    WA      98199.0        2019   TESLA   \n",
            "3  1N4AZ0CP5D      King    Seattle    WA      98119.0        2013  NISSAN   \n",
            "4  5YJSA1E21H  Thurston      Lacey    WA      98516.0        2017   TESLA   \n",
            "9  5YJSA1CP1D    Kitsap  Bremerton    WA      98312.0        2013   TESLA   \n",
            "\n",
            "     Model           Electric Vehicle Type  \\\n",
            "0  MODEL X  Battery Electric Vehicle (BEV)   \n",
            "2  MODEL 3  Battery Electric Vehicle (BEV)   \n",
            "3     LEAF  Battery Electric Vehicle (BEV)   \n",
            "4  MODEL S  Battery Electric Vehicle (BEV)   \n",
            "9  MODEL S  Battery Electric Vehicle (BEV)   \n",
            "\n",
            "  Clean Alternative Fuel Vehicle (CAFV) Eligibility  Electric Range  \\\n",
            "0           Clean Alternative Fuel Vehicle Eligible             238   \n",
            "2           Clean Alternative Fuel Vehicle Eligible             220   \n",
            "3           Clean Alternative Fuel Vehicle Eligible              75   \n",
            "4           Clean Alternative Fuel Vehicle Eligible             210   \n",
            "9           Clean Alternative Fuel Vehicle Eligible             208   \n",
            "\n",
            "   Base MSRP  Legislative District  DOL Vehicle ID  \\\n",
            "0        0.0                  14.0       141151601   \n",
            "2        0.0                  36.0         9426525   \n",
            "3        0.0                  36.0       211807760   \n",
            "4        0.0                  22.0       185810306   \n",
            "9    69900.0                  26.0       164768075   \n",
            "\n",
            "              Vehicle Location                              Electric Utility  \\\n",
            "0  POINT (-120.56916 46.58514)                                    PACIFICORP   \n",
            "2  POINT (-122.40092 47.65908)  CITY OF SEATTLE - (WA)|CITY OF TACOMA - (WA)   \n",
            "3   POINT (-122.3684 47.64586)  CITY OF SEATTLE - (WA)|CITY OF TACOMA - (WA)   \n",
            "4  POINT (-122.75379 47.06316)                        PUGET SOUND ENERGY INC   \n",
            "9  POINT (-122.66122 47.56573)                        PUGET SOUND ENERGY INC   \n",
            "\n",
            "   2020 Census Tract  \n",
            "0       5.307700e+10  \n",
            "2       5.303301e+10  \n",
            "3       5.303301e+10  \n",
            "4       5.306701e+10  \n",
            "9       5.303508e+10  \n"
          ]
        }
      ]
    }
  ]
}