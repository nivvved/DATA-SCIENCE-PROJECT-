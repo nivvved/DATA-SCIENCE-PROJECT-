{
  "nbformat": 4,
  "nbformat_minor": 0,
  "metadata": {
    "colab": {
      "provenance": [],
      "authorship_tag": "ABX9TyM8SkzxsDtZjA/bjj6me16i",
      "include_colab_link": true
    },
    "kernelspec": {
      "name": "python3",
      "display_name": "Python 3"
    },
    "language_info": {
      "name": "python"
    }
  },
  "cells": [
    {
      "cell_type": "markdown",
      "metadata": {
        "id": "view-in-github",
        "colab_type": "text"
      },
      "source": [
        "<a href=\"https://colab.research.google.com/github/nivvved/DATA-SCIENCE-PROJECT-/blob/main/WEBSCRAPING.ipynb\" target=\"_parent\"><img src=\"https://colab.research.google.com/assets/colab-badge.svg\" alt=\"Open In Colab\"/></a>"
      ]
    },
    {
      "cell_type": "code",
      "execution_count": 1,
      "metadata": {
        "colab": {
          "base_uri": "https://localhost:8080/"
        },
        "id": "dW0AffSNT1zu",
        "outputId": "3753093f-469e-4efb-cdd6-551838d107e1"
      },
      "outputs": [
        {
          "output_type": "stream",
          "name": "stdout",
          "text": [
            "Requirement already satisfied: beautifulsoup4 in /usr/local/lib/python3.10/dist-packages (4.11.2)\n",
            "Requirement already satisfied: soupsieve>1.2 in /usr/local/lib/python3.10/dist-packages (from beautifulsoup4) (2.4.1)\n"
          ]
        }
      ],
      "source": [
        "!pip install beautifulsoup4"
      ]
    },
    {
      "cell_type": "code",
      "source": [
        "!pip install requests"
      ],
      "metadata": {
        "colab": {
          "base_uri": "https://localhost:8080/"
        },
        "id": "FS4uCvqoUabk",
        "outputId": "243aea23-7084-484c-86cd-65bb75ae3dac"
      },
      "execution_count": 3,
      "outputs": [
        {
          "output_type": "stream",
          "name": "stdout",
          "text": [
            "Requirement already satisfied: requests in /usr/local/lib/python3.10/dist-packages (2.31.0)\n",
            "Requirement already satisfied: charset-normalizer<4,>=2 in /usr/local/lib/python3.10/dist-packages (from requests) (3.2.0)\n",
            "Requirement already satisfied: idna<4,>=2.5 in /usr/local/lib/python3.10/dist-packages (from requests) (3.4)\n",
            "Requirement already satisfied: urllib3<3,>=1.21.1 in /usr/local/lib/python3.10/dist-packages (from requests) (2.0.4)\n",
            "Requirement already satisfied: certifi>=2017.4.17 in /usr/local/lib/python3.10/dist-packages (from requests) (2023.7.22)\n"
          ]
        }
      ]
    },
    {
      "cell_type": "code",
      "source": [
        "import requests\n",
        "url =\"https://www.linkedin.com\"\n",
        "response = requests.get(url)\n",
        "if response.status_code == 200:\n",
        "  html_content = response.content\n",
        "else:\n",
        "  print(\"Failed to fetch page\")"
      ],
      "metadata": {
        "colab": {
          "base_uri": "https://localhost:8080/"
        },
        "id": "YydhTXM-UFIw",
        "outputId": "9533f58a-958f-41cc-bd0a-109af48b3c56"
      },
      "execution_count": 19,
      "outputs": [
        {
          "output_type": "stream",
          "name": "stdout",
          "text": [
            "Failed to fetch page\n"
          ]
        }
      ]
    },
    {
      "cell_type": "code",
      "source": [
        "from bs4 import BeautifulSoup\n",
        "soup = BeautifulSoup(html_content,\"html.parser\")"
      ],
      "metadata": {
        "id": "1d5nICmCUZPd"
      },
      "execution_count": 16,
      "outputs": []
    },
    {
      "cell_type": "code",
      "source": [
        "job_listings = []\n",
        "\n",
        "# Replace 'job-item' and 'job-title' with the actual HTML class or ID names\n",
        "for job_item in soup.find_all(\"div\", class_=\"job-item\"):\n",
        "    title = job_item.find(\"h2\", class_=\"job-title\").text.strip()\n",
        "    company = job_item.find(\"span\", class_=\"company-name\").text.strip()\n",
        "    location = job_item.find(\"span\", class_=\"job-location\").text.strip()\n",
        "\n",
        "    job_listings.append({\n",
        "        \"title\": title,\n",
        "        \"company\": company,\n",
        "        \"location\": location\n",
        "    })\n",
        "\n"
      ],
      "metadata": {
        "id": "lGMSau_DVib9"
      },
      "execution_count": 17,
      "outputs": []
    }
  ]
}