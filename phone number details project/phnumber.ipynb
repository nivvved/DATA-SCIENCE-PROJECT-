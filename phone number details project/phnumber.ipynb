{
  "nbformat": 4,
  "nbformat_minor": 0,
  "metadata": {
    "colab": {
      "provenance": [],
      "authorship_tag": "ABX9TyM+FPQQ15x4Rll07E2MAVzT",
      "include_colab_link": true
    },
    "kernelspec": {
      "name": "python3",
      "display_name": "Python 3"
    },
    "language_info": {
      "name": "python"
    }
  },
  "cells": [
    {
      "cell_type": "markdown",
      "metadata": {
        "id": "view-in-github",
        "colab_type": "text"
      },
      "source": [
        "<a href=\"https://colab.research.google.com/github/nivvved/DATA-SCIENCE-PROJECT-/blob/main/phone%20number%20details%20project/phnumber.ipynb\" target=\"_parent\"><img src=\"https://colab.research.google.com/assets/colab-badge.svg\" alt=\"Open In Colab\"/></a>"
      ]
    },
    {
      "cell_type": "code",
      "source": [
        "!pip install phonenumbers"
      ],
      "metadata": {
        "colab": {
          "base_uri": "https://localhost:8080/"
        },
        "id": "FSpMoUqdQY2i",
        "outputId": "67b82411-cb60-4f5a-ecdf-95ce4f983725"
      },
      "execution_count": 2,
      "outputs": [
        {
          "output_type": "stream",
          "name": "stdout",
          "text": [
            "Looking in indexes: https://pypi.org/simple, https://us-python.pkg.dev/colab-wheels/public/simple/\n",
            "Collecting phonenumbers\n",
            "  Downloading phonenumbers-8.13.14-py2.py3-none-any.whl (2.6 MB)\n",
            "\u001b[2K     \u001b[90m━━━━━━━━━━━━━━━━━━━━━━━━━━━━━━━━━━━━━━━━\u001b[0m \u001b[32m2.6/2.6 MB\u001b[0m \u001b[31m47.4 MB/s\u001b[0m eta \u001b[36m0:00:00\u001b[0m\n",
            "\u001b[?25hInstalling collected packages: phonenumbers\n",
            "Successfully installed phonenumbers-8.13.14\n"
          ]
        }
      ]
    },
    {
      "cell_type": "code",
      "execution_count": 3,
      "metadata": {
        "id": "qj36lSYVQQds"
      },
      "outputs": [],
      "source": [
        "import phonenumbers"
      ]
    },
    {
      "cell_type": "code",
      "source": [
        "from phonenumbers import carrier, geocoder, timezone"
      ],
      "metadata": {
        "id": "GytN0JYQQgaZ"
      },
      "execution_count": 4,
      "outputs": []
    },
    {
      "cell_type": "code",
      "source": [
        "mobileno = input(\"enter the phone number with code :\")\n",
        "mobileno=phonenumbers.parse(mobileno)\n",
        "if phonenumbers.is_valid_number(mobileno):\n",
        "    print('Phone Number belongs to region :',timezone.time_zones_for_number(mobileno))\n",
        "    print('Service Provider : ',carrier.name_for_number(mobileno,\"en\"))\n",
        "    print('Phone number belongs to country : ',geocoder.description_for_number(mobileno,\"en\"))\n",
        "else:\n",
        "    print(\"Please enter valid mobile number\")"
      ],
      "metadata": {
        "colab": {
          "base_uri": "https://localhost:8080/"
        },
        "id": "Zc_GxbgHQqwn",
        "outputId": "3b3040b3-40e5-47ba-a6d3-3b6a3faf9e64"
      },
      "execution_count": 9,
      "outputs": [
        {
          "output_type": "stream",
          "name": "stdout",
          "text": [
            "enter the phone number with code :+919567657274\n",
            "Phone Number belongs to region : ('Asia/Calcutta',)\n",
            "Service Provider :  Airtel\n",
            "Phone number belongs to country :  India\n"
          ]
        }
      ]
    }
  ]
}